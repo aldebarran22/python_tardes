{
 "cells": [
  {
   "cell_type": "markdown",
   "id": "2bab91c1",
   "metadata": {},
   "source": [
    "## ENTRADA SALIDA CON NUMPY"
   ]
  },
  {
   "cell_type": "code",
   "execution_count": 1,
   "id": "190a78f2",
   "metadata": {},
   "outputs": [],
   "source": [
    "import numpy as np"
   ]
  },
  {
   "cell_type": "code",
   "execution_count": 2,
   "id": "ec3afe01",
   "metadata": {},
   "outputs": [
    {
     "data": {
      "text/plain": [
       "array([[15, 38, 25, 33,  5],\n",
       "       [44, 16, 13, 30,  3],\n",
       "       [27, 27, 46, 17, 27],\n",
       "       [25, 29,  9, 19, 10],\n",
       "       [25, 19, 43, 36,  2],\n",
       "       [34, 26, 45,  2, 19]])"
      ]
     },
     "execution_count": 2,
     "metadata": {},
     "output_type": "execute_result"
    }
   ],
   "source": [
    "a = np.random.randint(1,50,30).reshape(6,5)\n",
    "a"
   ]
  },
  {
   "cell_type": "code",
   "execution_count": 3,
   "id": "48f4a74f",
   "metadata": {},
   "outputs": [
    {
     "data": {
      "text/plain": [
       "array([[18,  6, 40, 45, 12],\n",
       "       [19, 12,  1, 12, 35],\n",
       "       [ 6, 27, 12, 42, 48],\n",
       "       [29,  4, 34, 38,  5],\n",
       "       [14, 24,  3, 38,  2],\n",
       "       [ 6, 42, 22, 22, 42]])"
      ]
     },
     "execution_count": 3,
     "metadata": {},
     "output_type": "execute_result"
    }
   ],
   "source": [
    "b = np.random.randint(1,50,30).reshape(6,5)\n",
    "b"
   ]
  },
  {
   "cell_type": "markdown",
   "id": "73bdcd58",
   "metadata": {},
   "source": [
    "Ficheros binarios"
   ]
  },
  {
   "cell_type": "code",
   "execution_count": 8,
   "id": "573a964e",
   "metadata": {},
   "outputs": [],
   "source": [
    "np.save('matriz', a)"
   ]
  },
  {
   "cell_type": "code",
   "execution_count": 9,
   "id": "3970f573",
   "metadata": {},
   "outputs": [],
   "source": [
    "a2 = np.load('matriz.npy')"
   ]
  },
  {
   "cell_type": "code",
   "execution_count": 10,
   "id": "6603fd30",
   "metadata": {},
   "outputs": [
    {
     "data": {
      "text/plain": [
       "array([[15, 38, 25, 33,  5],\n",
       "       [44, 16, 13, 30,  3],\n",
       "       [27, 27, 46, 17, 27],\n",
       "       [25, 29,  9, 19, 10],\n",
       "       [25, 19, 43, 36,  2],\n",
       "       [34, 26, 45,  2, 19]])"
      ]
     },
     "execution_count": 10,
     "metadata": {},
     "output_type": "execute_result"
    }
   ],
   "source": [
    "a2"
   ]
  },
  {
   "cell_type": "markdown",
   "id": "39277d16",
   "metadata": {},
   "source": [
    "Ficheros de texto"
   ]
  },
  {
   "cell_type": "code",
   "execution_count": 12,
   "id": "5d62274d",
   "metadata": {},
   "outputs": [],
   "source": [
    "np.savetxt('matriz.csv', a, fmt='%d', delimiter=';')"
   ]
  },
  {
   "cell_type": "code",
   "execution_count": 15,
   "id": "665a3dff",
   "metadata": {},
   "outputs": [
    {
     "data": {
      "text/plain": [
       "array([[15, 38, 25, 33,  5],\n",
       "       [44, 16, 13, 30,  3],\n",
       "       [27, 27, 46, 17, 27],\n",
       "       [25, 29,  9, 19, 10],\n",
       "       [25, 19, 43, 36,  2],\n",
       "       [34, 26, 45,  2, 19]], dtype=uint8)"
      ]
     },
     "execution_count": 15,
     "metadata": {},
     "output_type": "execute_result"
    }
   ],
   "source": [
    "a2 = np.loadtxt('matriz.csv', dtype=np.uint8, delimiter=';')\n",
    "a2"
   ]
  },
  {
   "cell_type": "markdown",
   "id": "2e16197f",
   "metadata": {},
   "source": [
    "Ficheros npz"
   ]
  },
  {
   "cell_type": "code",
   "execution_count": 16,
   "id": "bd616c2e",
   "metadata": {},
   "outputs": [],
   "source": [
    "np.savez_compressed('matriz.npz', ma=a, mb=b)"
   ]
  },
  {
   "cell_type": "code",
   "execution_count": 18,
   "id": "910777bf",
   "metadata": {},
   "outputs": [
    {
     "data": {
      "text/plain": [
       "array([[18,  6, 40, 45, 12],\n",
       "       [19, 12,  1, 12, 35],\n",
       "       [ 6, 27, 12, 42, 48],\n",
       "       [29,  4, 34, 38,  5],\n",
       "       [14, 24,  3, 38,  2],\n",
       "       [ 6, 42, 22, 22, 42]])"
      ]
     },
     "execution_count": 18,
     "metadata": {},
     "output_type": "execute_result"
    }
   ],
   "source": [
    "dicc = np.load('matriz.npz')\n",
    "dicc['mb']"
   ]
  },
  {
   "cell_type": "code",
   "execution_count": 19,
   "id": "95b08b64",
   "metadata": {},
   "outputs": [
    {
     "data": {
      "text/plain": [
       "array([[15, 38, 25, 33,  5],\n",
       "       [44, 16, 13, 30,  3],\n",
       "       [27, 27, 46, 17, 27],\n",
       "       [25, 29,  9, 19, 10],\n",
       "       [25, 19, 43, 36,  2],\n",
       "       [34, 26, 45,  2, 19]])"
      ]
     },
     "execution_count": 19,
     "metadata": {},
     "output_type": "execute_result"
    }
   ],
   "source": [
    "dicc['ma']"
   ]
  },
  {
   "cell_type": "code",
   "execution_count": null,
   "id": "df35da6a",
   "metadata": {},
   "outputs": [],
   "source": []
  }
 ],
 "metadata": {
  "kernelspec": {
   "display_name": "Python 3 (ipykernel)",
   "language": "python",
   "name": "python3"
  },
  "language_info": {
   "codemirror_mode": {
    "name": "ipython",
    "version": 3
   },
   "file_extension": ".py",
   "mimetype": "text/x-python",
   "name": "python",
   "nbconvert_exporter": "python",
   "pygments_lexer": "ipython3",
   "version": "3.8.5"
  }
 },
 "nbformat": 4,
 "nbformat_minor": 5
}
