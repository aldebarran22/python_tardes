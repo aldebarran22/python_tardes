{
 "cells": [
  {
   "cell_type": "markdown",
   "id": "c2c1e4dd",
   "metadata": {},
   "source": [
    "## ENTRADA SALIDA CON NUMPY"
   ]
  },
  {
   "cell_type": "code",
   "execution_count": 1,
   "id": "2ece49ca",
   "metadata": {},
   "outputs": [],
   "source": [
    "import numpy as np"
   ]
  },
  {
   "cell_type": "code",
   "execution_count": 2,
   "id": "c204ec78",
   "metadata": {},
   "outputs": [
    {
     "data": {
      "text/plain": [
       "array([[15, 38, 25, 33,  5],\n",
       "       [44, 16, 13, 30,  3],\n",
       "       [27, 27, 46, 17, 27],\n",
       "       [25, 29,  9, 19, 10],\n",
       "       [25, 19, 43, 36,  2],\n",
       "       [34, 26, 45,  2, 19]])"
      ]
     },
     "execution_count": 2,
     "metadata": {},
     "output_type": "execute_result"
    }
   ],
   "source": [
    "a = np.random.randint(1,50,30).reshape(6,5)\n",
    "a"
   ]
  },
  {
   "cell_type": "code",
   "execution_count": 3,
   "id": "5bd758ee",
   "metadata": {},
   "outputs": [
    {
     "data": {
      "text/plain": [
       "array([[18,  6, 40, 45, 12],\n",
       "       [19, 12,  1, 12, 35],\n",
       "       [ 6, 27, 12, 42, 48],\n",
       "       [29,  4, 34, 38,  5],\n",
       "       [14, 24,  3, 38,  2],\n",
       "       [ 6, 42, 22, 22, 42]])"
      ]
     },
     "execution_count": 3,
     "metadata": {},
     "output_type": "execute_result"
    }
   ],
   "source": [
    "b = np.random.randint(1,50,30).reshape(6,5)\n",
    "b"
   ]
  },
  {
   "cell_type": "markdown",
   "id": "b8363dc8",
   "metadata": {},
   "source": [
    "Ficheros binarios"
   ]
  },
  {
   "cell_type": "code",
   "execution_count": 8,
   "id": "90c072c1",
   "metadata": {},
   "outputs": [],
   "source": [
    "np.save('matriz', a)"
   ]
  },
  {
   "cell_type": "code",
   "execution_count": 9,
   "id": "e56de991",
   "metadata": {},
   "outputs": [],
   "source": [
    "a2 = np.load('matriz.npy')"
   ]
  },
  {
   "cell_type": "code",
   "execution_count": 10,
   "id": "0739d82c",
   "metadata": {},
   "outputs": [
    {
     "data": {
      "text/plain": [
       "array([[15, 38, 25, 33,  5],\n",
       "       [44, 16, 13, 30,  3],\n",
       "       [27, 27, 46, 17, 27],\n",
       "       [25, 29,  9, 19, 10],\n",
       "       [25, 19, 43, 36,  2],\n",
       "       [34, 26, 45,  2, 19]])"
      ]
     },
     "execution_count": 10,
     "metadata": {},
     "output_type": "execute_result"
    }
   ],
   "source": [
    "a2"
   ]
  },
  {
   "cell_type": "code",
   "execution_count": null,
   "id": "22410e23",
   "metadata": {},
   "outputs": [],
   "source": []
  }
 ],
 "metadata": {
  "kernelspec": {
   "display_name": "Python 3 (ipykernel)",
   "language": "python",
   "name": "python3"
  },
  "language_info": {
   "codemirror_mode": {
    "name": "ipython",
    "version": 3
   },
   "file_extension": ".py",
   "mimetype": "text/x-python",
   "name": "python",
   "nbconvert_exporter": "python",
   "pygments_lexer": "ipython3",
   "version": "3.8.5"
  }
 },
 "nbformat": 4,
 "nbformat_minor": 5
}
