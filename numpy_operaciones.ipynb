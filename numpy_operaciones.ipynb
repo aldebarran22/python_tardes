{
 "cells": [
  {
   "cell_type": "markdown",
   "id": "bc2040e1",
   "metadata": {},
   "source": [
    "# PRUEBAS CON NUMPY"
   ]
  },
  {
   "cell_type": "markdown",
   "id": "8391aedc",
   "metadata": {},
   "source": [
    "- Operadores\n",
    "- Funciones\n",
    "- Ficheros"
   ]
  },
  {
   "cell_type": "code",
   "execution_count": 1,
   "id": "59701e29",
   "metadata": {},
   "outputs": [],
   "source": [
    "import numpy as np"
   ]
  },
  {
   "cell_type": "code",
   "execution_count": 2,
   "id": "368c01b9",
   "metadata": {},
   "outputs": [
    {
     "data": {
      "text/plain": [
       "array([[[0.44950585, 0.88934922, 0.44878575],\n",
       "        [0.34943527, 0.52111049, 0.4746588 ],\n",
       "        [0.57758895, 0.65767793, 0.99044558],\n",
       "        [0.06435706, 0.44294744, 0.77225602],\n",
       "        [0.66521736, 0.28396317, 0.31196488]],\n",
       "\n",
       "       [[0.17167246, 0.32327894, 0.30967717],\n",
       "        [0.61720858, 0.16925976, 0.00526581],\n",
       "        [0.32375829, 0.40503387, 0.72716053],\n",
       "        [0.41859384, 0.83980874, 0.28671111],\n",
       "        [0.4332597 , 0.1758904 , 0.33496229]]])"
      ]
     },
     "execution_count": 2,
     "metadata": {},
     "output_type": "execute_result"
    }
   ],
   "source": [
    "datos = np.random.rand(2,5,3)\n",
    "datos"
   ]
  },
  {
   "cell_type": "code",
   "execution_count": 3,
   "id": "4134a45c",
   "metadata": {},
   "outputs": [
    {
     "data": {
      "text/plain": [
       "numpy.ndarray"
      ]
     },
     "execution_count": 3,
     "metadata": {},
     "output_type": "execute_result"
    }
   ],
   "source": [
    "type(datos)"
   ]
  },
  {
   "cell_type": "code",
   "execution_count": 4,
   "id": "95d0d2c7",
   "metadata": {},
   "outputs": [],
   "source": [
    "d = np.array([1,3,4,5])\n",
    "d2 = np.array([12, 8.8, 5, 3.88])"
   ]
  },
  {
   "cell_type": "code",
   "execution_count": 5,
   "id": "5b408006",
   "metadata": {},
   "outputs": [
    {
     "data": {
      "text/plain": [
       "array([12.  ,  8.8 ,  5.  ,  3.88])"
      ]
     },
     "execution_count": 5,
     "metadata": {},
     "output_type": "execute_result"
    }
   ],
   "source": [
    "d2"
   ]
  },
  {
   "cell_type": "code",
   "execution_count": 6,
   "id": "d5380ff8",
   "metadata": {},
   "outputs": [
    {
     "data": {
      "text/plain": [
       "array([12,  6,  9], dtype=int8)"
      ]
     },
     "execution_count": 6,
     "metadata": {},
     "output_type": "execute_result"
    }
   ],
   "source": [
    "d3 = np.array(['12','6','9'], dtype=np.int8)\n",
    "d3"
   ]
  },
  {
   "cell_type": "code",
   "execution_count": 7,
   "id": "6d69e37f",
   "metadata": {},
   "outputs": [
    {
     "data": {
      "text/plain": [
       "array([12,  8,  5,  3], dtype=int8)"
      ]
     },
     "execution_count": 7,
     "metadata": {},
     "output_type": "execute_result"
    }
   ],
   "source": [
    "d2 = d2.astype(np.int8)\n",
    "d2"
   ]
  },
  {
   "cell_type": "code",
   "execution_count": 8,
   "id": "8edd5fb7",
   "metadata": {},
   "outputs": [
    {
     "data": {
      "text/plain": [
       "(4,)"
      ]
     },
     "execution_count": 8,
     "metadata": {},
     "output_type": "execute_result"
    }
   ],
   "source": [
    "d2.shape"
   ]
  },
  {
   "cell_type": "code",
   "execution_count": 9,
   "id": "0fdf8f4d",
   "metadata": {},
   "outputs": [
    {
     "data": {
      "text/plain": [
       "(2, 5, 3)"
      ]
     },
     "execution_count": 9,
     "metadata": {},
     "output_type": "execute_result"
    }
   ],
   "source": [
    "datos.shape"
   ]
  },
  {
   "cell_type": "code",
   "execution_count": 10,
   "id": "46c39da9",
   "metadata": {},
   "outputs": [
    {
     "data": {
      "text/plain": [
       "array([[[0., 0., 0.],\n",
       "        [0., 0., 0.],\n",
       "        [0., 0., 0.],\n",
       "        [0., 0., 0.],\n",
       "        [0., 0., 0.]],\n",
       "\n",
       "       [[0., 0., 0.],\n",
       "        [0., 0., 0.],\n",
       "        [0., 0., 0.],\n",
       "        [0., 0., 0.],\n",
       "        [0., 0., 0.]]])"
      ]
     },
     "execution_count": 10,
     "metadata": {},
     "output_type": "execute_result"
    }
   ],
   "source": [
    "datos2 = np.zeros_like(datos)\n",
    "datos2"
   ]
  },
  {
   "cell_type": "code",
   "execution_count": 11,
   "id": "e332d463",
   "metadata": {},
   "outputs": [
    {
     "data": {
      "text/plain": [
       "array([[[4, 8, 4],\n",
       "        [3, 5, 4],\n",
       "        [5, 6, 9],\n",
       "        [0, 4, 7],\n",
       "        [6, 2, 3]],\n",
       "\n",
       "       [[1, 3, 3],\n",
       "        [6, 1, 0],\n",
       "        [3, 4, 7],\n",
       "        [4, 8, 2],\n",
       "        [4, 1, 3]]], dtype=int16)"
      ]
     },
     "execution_count": 11,
     "metadata": {},
     "output_type": "execute_result"
    }
   ],
   "source": [
    "datos = datos * 10\n",
    "datos = datos.astype(np.int16)\n",
    "datos"
   ]
  },
  {
   "cell_type": "code",
   "execution_count": 12,
   "id": "34ac93f0",
   "metadata": {},
   "outputs": [
    {
     "data": {
      "text/plain": [
       "array([28, 23, 11, 22, 16,  7, 26, 12,  3,  3, 14,  3,  1,  8, 23,  2,  3,\n",
       "       20, 20, 17])"
      ]
     },
     "execution_count": 12,
     "metadata": {},
     "output_type": "execute_result"
    }
   ],
   "source": [
    "arr1 = np.random.randint(1,30,20)\n",
    "arr1"
   ]
  },
  {
   "cell_type": "code",
   "execution_count": 13,
   "id": "bcd963e5",
   "metadata": {},
   "outputs": [
    {
     "data": {
      "text/plain": [
       "array([23,  6,  9, 29,  4, 28,  5,  2, 11, 17, 22, 21, 10, 20, 24,  4,  1,\n",
       "       26,  7,  9])"
      ]
     },
     "execution_count": 13,
     "metadata": {},
     "output_type": "execute_result"
    }
   ],
   "source": [
    "arr2 = np.random.randint(1,30,20)\n",
    "arr2"
   ]
  },
  {
   "cell_type": "code",
   "execution_count": 14,
   "id": "30fa6976",
   "metadata": {},
   "outputs": [
    {
     "data": {
      "text/plain": [
       "array([23, 22, 16, 23, 20, 20, 17])"
      ]
     },
     "execution_count": 14,
     "metadata": {},
     "output_type": "execute_result"
    }
   ],
   "source": [
    "# Filtrar los números entre 15 y 25\n",
    "arr1[(arr1 >= 15) & (arr1 <= 25 )]"
   ]
  },
  {
   "cell_type": "code",
   "execution_count": 15,
   "id": "fdcde03a",
   "metadata": {},
   "outputs": [
    {
     "data": {
      "text/plain": [
       "array([ True,  True,  True, False,  True, False,  True,  True, False,\n",
       "       False, False, False, False, False, False, False,  True, False,\n",
       "        True,  True])"
      ]
     },
     "execution_count": 15,
     "metadata": {},
     "output_type": "execute_result"
    }
   ],
   "source": [
    "arr1 > arr2"
   ]
  },
  {
   "cell_type": "code",
   "execution_count": 16,
   "id": "74d9bfd1",
   "metadata": {},
   "outputs": [
    {
     "data": {
      "text/plain": [
       "array([51, 29, 20, 51, 20, 35, 31, 14, 14, 20, 36, 24, 11, 28, 47,  6,  4,\n",
       "       46, 27, 26])"
      ]
     },
     "execution_count": 16,
     "metadata": {},
     "output_type": "execute_result"
    }
   ],
   "source": [
    "suma = arr1 + arr2\n",
    "suma"
   ]
  },
  {
   "cell_type": "code",
   "execution_count": 17,
   "id": "4ec95eb4",
   "metadata": {},
   "outputs": [
    {
     "data": {
      "text/plain": [
       "array([20,  6,  9, 20,  4, 20,  5,  2, 11, 17, 20, 20, 10, 20, 20,  4,  1,\n",
       "       20,  7,  9])"
      ]
     },
     "execution_count": 17,
     "metadata": {},
     "output_type": "execute_result"
    }
   ],
   "source": [
    "arr2[arr2 >= 20] = 20\n",
    "arr2"
   ]
  },
  {
   "cell_type": "code",
   "execution_count": 18,
   "id": "a84bcd09",
   "metadata": {},
   "outputs": [
    {
     "data": {
      "text/plain": [
       "array([[1., 0., 0., 0., 0., 0.],\n",
       "       [0., 1., 0., 0., 0., 0.],\n",
       "       [0., 0., 1., 0., 0., 0.],\n",
       "       [0., 0., 0., 1., 0., 0.],\n",
       "       [0., 0., 0., 0., 1., 0.],\n",
       "       [0., 0., 0., 0., 0., 1.]])"
      ]
     },
     "execution_count": 18,
     "metadata": {},
     "output_type": "execute_result"
    }
   ],
   "source": [
    "m = np.eye(6)\n",
    "m"
   ]
  },
  {
   "cell_type": "code",
   "execution_count": 19,
   "id": "fa01de4c",
   "metadata": {},
   "outputs": [
    {
     "data": {
      "text/plain": [
       "array([[1., 0., 0., 0.],\n",
       "       [0., 1., 0., 0.],\n",
       "       [0., 0., 1., 0.],\n",
       "       [0., 0., 0., 1.]])"
      ]
     },
     "execution_count": 19,
     "metadata": {},
     "output_type": "execute_result"
    }
   ],
   "source": [
    "m[1:-1,1:-1]"
   ]
  },
  {
   "cell_type": "code",
   "execution_count": 20,
   "id": "1c9e86ec",
   "metadata": {},
   "outputs": [
    {
     "data": {
      "text/plain": [
       "array([[ 0,  1,  2,  3,  4],\n",
       "       [ 5,  6,  7,  8,  9],\n",
       "       [10, 11, 12, 13, 14],\n",
       "       [15, 16, 17, 18, 19],\n",
       "       [20, 21, 22, 23, 24]])"
      ]
     },
     "execution_count": 20,
     "metadata": {},
     "output_type": "execute_result"
    }
   ],
   "source": [
    "m = np.arange(25).reshape(5,-1)\n",
    "m"
   ]
  },
  {
   "cell_type": "code",
   "execution_count": 21,
   "id": "c34312fd",
   "metadata": {},
   "outputs": [
    {
     "data": {
      "text/plain": [
       "array([[ 0,  1,  2,  3,  4],\n",
       "       [15, 16, 17, 18, 19],\n",
       "       [20, 21, 22, 23, 24]])"
      ]
     },
     "execution_count": 21,
     "metadata": {},
     "output_type": "execute_result"
    }
   ],
   "source": [
    "m[[0,3,4]]"
   ]
  },
  {
   "cell_type": "code",
   "execution_count": 22,
   "id": "07c54f39",
   "metadata": {},
   "outputs": [
    {
     "data": {
      "text/plain": [
       "array([[ 0,  1,  2,  3,  4],\n",
       "       [15, 16, 17, 18, 19],\n",
       "       [20, 21, 22, 23, 24]])"
      ]
     },
     "execution_count": 22,
     "metadata": {},
     "output_type": "execute_result"
    }
   ],
   "source": [
    "indices = np.array([True, False, False, True, True])\n",
    "m[indices]"
   ]
  },
  {
   "cell_type": "code",
   "execution_count": 23,
   "id": "29361c18",
   "metadata": {},
   "outputs": [
    {
     "data": {
      "text/plain": [
       "array([[ 0,  1,  2,  3,  4],\n",
       "       [ 5,  6,  7,  8,  9],\n",
       "       [10, 11, 12, 13, 14],\n",
       "       [15, 16, 17, 18, 19],\n",
       "       [20, 21, 22, 23, 24]])"
      ]
     },
     "execution_count": 23,
     "metadata": {},
     "output_type": "execute_result"
    }
   ],
   "source": [
    "m"
   ]
  },
  {
   "cell_type": "code",
   "execution_count": 24,
   "id": "77c298e4",
   "metadata": {},
   "outputs": [
    {
     "data": {
      "text/plain": [
       "array([[ 0,  1,  2,  3,  4],\n",
       "       [ 0,  6,  7,  8,  9],\n",
       "       [ 0, 11, 12, 13, 14],\n",
       "       [ 0, 16, 17, 18, 19],\n",
       "       [ 0, 21, 22, 23, 24]])"
      ]
     },
     "execution_count": 24,
     "metadata": {},
     "output_type": "execute_result"
    }
   ],
   "source": [
    "a = m.T\n",
    "a[0] = 0\n",
    "b = a.T\n",
    "b"
   ]
  },
  {
   "cell_type": "code",
   "execution_count": 25,
   "id": "314fcf4b",
   "metadata": {},
   "outputs": [],
   "source": [
    "def modificarCol(m, col, valor):\n",
    "    a = m.T\n",
    "    a[col] = valor\n",
    "    b = a.T\n",
    "    return b"
   ]
  },
  {
   "cell_type": "code",
   "execution_count": 26,
   "id": "2f5538ef",
   "metadata": {},
   "outputs": [
    {
     "data": {
      "text/plain": [
       "array([[ 0,  1,  2,  3,  4],\n",
       "       [ 0,  6,  7,  8,  9],\n",
       "       [ 0, 11, 12, 13, 14],\n",
       "       [ 0, 16, 17, 18, 19],\n",
       "       [ 0, 21, 22, 23, 24]])"
      ]
     },
     "execution_count": 26,
     "metadata": {},
     "output_type": "execute_result"
    }
   ],
   "source": [
    "m"
   ]
  },
  {
   "cell_type": "code",
   "execution_count": 27,
   "id": "ed54b6b6",
   "metadata": {},
   "outputs": [
    {
     "data": {
      "text/plain": [
       "array([[ 0,  1,  2, 10,  4],\n",
       "       [ 0,  6,  7, 10,  9],\n",
       "       [ 0, 11, 12, 10, 14],\n",
       "       [ 0, 16, 17, 10, 19],\n",
       "       [ 0, 21, 22, 10, 24]])"
      ]
     },
     "execution_count": 27,
     "metadata": {},
     "output_type": "execute_result"
    }
   ],
   "source": [
    "m2 = modificarCol(m, 3, 10)\n",
    "m2"
   ]
  },
  {
   "cell_type": "code",
   "execution_count": 28,
   "id": "a3650dc9",
   "metadata": {},
   "outputs": [
    {
     "data": {
      "text/plain": [
       "array([ 1,  7, 18, 29, 17, 14,  6, 17,  2,  1, 12,  6,  5,  8,  7, 13, 20,\n",
       "       17, 10,  1])"
      ]
     },
     "execution_count": 28,
     "metadata": {},
     "output_type": "execute_result"
    }
   ],
   "source": [
    "arr1 = np.random.randint(1,30,20)\n",
    "arr1"
   ]
  },
  {
   "cell_type": "code",
   "execution_count": 29,
   "id": "f45ccc76",
   "metadata": {},
   "outputs": [
    {
     "data": {
      "text/plain": [
       "array([24,  5, 21, 21, 17, 22, 24, 25, 17, 11, 22, 25, 18,  1, 11, 26, 21,\n",
       "        9, 12,  7])"
      ]
     },
     "execution_count": 29,
     "metadata": {},
     "output_type": "execute_result"
    }
   ],
   "source": [
    "arr2 = np.random.randint(1,30,20)\n",
    "arr2"
   ]
  },
  {
   "cell_type": "code",
   "execution_count": 30,
   "id": "b9c7f381",
   "metadata": {},
   "outputs": [
    {
     "data": {
      "text/plain": [
       "array([24,  7, 21, 29, 17, 22, 24, 25, 17, 11, 22, 25, 18,  8, 11, 26, 21,\n",
       "       17, 12,  7])"
      ]
     },
     "execution_count": 30,
     "metadata": {},
     "output_type": "execute_result"
    }
   ],
   "source": [
    "maximos = np.maximum(arr1, arr2)\n",
    "maximos"
   ]
  },
  {
   "cell_type": "code",
   "execution_count": 31,
   "id": "f1ee8e01",
   "metadata": {},
   "outputs": [
    {
     "data": {
      "text/plain": [
       "array([ 1,  5, 18, 21, 17, 14,  6, 17,  2,  1, 12,  6,  5,  1,  7, 13, 20,\n",
       "        9, 10,  1])"
      ]
     },
     "execution_count": 31,
     "metadata": {},
     "output_type": "execute_result"
    }
   ],
   "source": [
    "minimos = np.minimum(arr1, arr2)\n",
    "minimos"
   ]
  },
  {
   "cell_type": "code",
   "execution_count": 32,
   "id": "edf05466",
   "metadata": {},
   "outputs": [
    {
     "data": {
      "text/plain": [
       "array([2, 4, 1, 0])"
      ]
     },
     "execution_count": 32,
     "metadata": {},
     "output_type": "execute_result"
    }
   ],
   "source": [
    "L1 = [2,4,5,6]\n",
    "L2 = [5,6,1,0]\n",
    "np.minimum(L1, L2)"
   ]
  },
  {
   "cell_type": "code",
   "execution_count": null,
   "id": "7e5bb535",
   "metadata": {},
   "outputs": [],
   "source": []
  },
  {
   "cell_type": "code",
   "execution_count": 33,
   "id": "a8aadc1f",
   "metadata": {},
   "outputs": [],
   "source": [
    "def identidad(n=5):\n",
    "    arr = np.arange(1,n+1)    \n",
    "    m = np.eye(n)    \n",
    "    m2 = np.where(m!=0,arr,0)\n",
    "    return m2"
   ]
  },
  {
   "cell_type": "code",
   "execution_count": 34,
   "id": "1c623cd5",
   "metadata": {},
   "outputs": [
    {
     "data": {
      "text/plain": [
       "array([[ 1,  0,  0,  0,  0,  0,  0,  0,  0,  0],\n",
       "       [ 0,  2,  0,  0,  0,  0,  0,  0,  0,  0],\n",
       "       [ 0,  0,  3,  0,  0,  0,  0,  0,  0,  0],\n",
       "       [ 0,  0,  0,  4,  0,  0,  0,  0,  0,  0],\n",
       "       [ 0,  0,  0,  0,  5,  0,  0,  0,  0,  0],\n",
       "       [ 0,  0,  0,  0,  0,  6,  0,  0,  0,  0],\n",
       "       [ 0,  0,  0,  0,  0,  0,  7,  0,  0,  0],\n",
       "       [ 0,  0,  0,  0,  0,  0,  0,  8,  0,  0],\n",
       "       [ 0,  0,  0,  0,  0,  0,  0,  0,  9,  0],\n",
       "       [ 0,  0,  0,  0,  0,  0,  0,  0,  0, 10]])"
      ]
     },
     "execution_count": 34,
     "metadata": {},
     "output_type": "execute_result"
    }
   ],
   "source": [
    "identidad(10)"
   ]
  },
  {
   "cell_type": "code",
   "execution_count": 35,
   "id": "ed5dcf4f",
   "metadata": {},
   "outputs": [
    {
     "data": {
      "text/plain": [
       "array([[ 0,  1,  2,  3],\n",
       "       [ 4,  5,  6,  7],\n",
       "       [ 8,  9, 10, 11],\n",
       "       [12, 13, 14, 15],\n",
       "       [16, 17, 18, 19]])"
      ]
     },
     "execution_count": 35,
     "metadata": {},
     "output_type": "execute_result"
    }
   ],
   "source": [
    "a = np.arange(20).reshape(5,-1)\n",
    "a"
   ]
  },
  {
   "cell_type": "code",
   "execution_count": 36,
   "id": "7f11caa7",
   "metadata": {},
   "outputs": [
    {
     "data": {
      "text/plain": [
       "190"
      ]
     },
     "execution_count": 36,
     "metadata": {},
     "output_type": "execute_result"
    }
   ],
   "source": [
    "a.sum()"
   ]
  },
  {
   "cell_type": "code",
   "execution_count": 37,
   "id": "709c27b4",
   "metadata": {},
   "outputs": [
    {
     "data": {
      "text/plain": [
       "array([40, 45, 50, 55])"
      ]
     },
     "execution_count": 37,
     "metadata": {},
     "output_type": "execute_result"
    }
   ],
   "source": [
    "a.sum(axis=0) # suma cols"
   ]
  },
  {
   "cell_type": "code",
   "execution_count": 38,
   "id": "21299afe",
   "metadata": {},
   "outputs": [
    {
     "data": {
      "text/plain": [
       "array([ 6, 22, 38, 54, 70])"
      ]
     },
     "execution_count": 38,
     "metadata": {},
     "output_type": "execute_result"
    }
   ],
   "source": [
    "a.sum(axis=1) # suma filas"
   ]
  },
  {
   "cell_type": "code",
   "execution_count": 39,
   "id": "86fefb62",
   "metadata": {},
   "outputs": [
    {
     "data": {
      "text/plain": [
       "array([[1.        , 0.81543901],\n",
       "       [0.81543901, 1.        ]])"
      ]
     },
     "execution_count": 39,
     "metadata": {},
     "output_type": "execute_result"
    }
   ],
   "source": [
    "np.random.seed(1)\n",
    "# 1000 random integers between 0 and 50\n",
    "x = np.random.randint (0, 50,1000)\n",
    "# Positive Correlation with some noise\n",
    "y = x + np.random.normal (0, 10,1000)\n",
    "\n",
    "t = np.corrcoef(x,y)\n",
    "t"
   ]
  },
  {
   "cell_type": "code",
   "execution_count": 40,
   "id": "5a7a621a",
   "metadata": {},
   "outputs": [
    {
     "data": {
      "text/plain": [
       "81.54"
      ]
     },
     "execution_count": 40,
     "metadata": {},
     "output_type": "execute_result"
    }
   ],
   "source": [
    "porc = t[0,1]\n",
    "p = round(porc * 100,2)\n",
    "p"
   ]
  },
  {
   "cell_type": "code",
   "execution_count": 41,
   "id": "39b7b839",
   "metadata": {},
   "outputs": [
    {
     "name": "stdout",
     "output_type": "stream",
     "text": [
      "[ 58  34  49  51  40  61  50  51  46  45  57  51  53  48  45  66  42  46\n",
      " 107] 19\n",
      "[ 0  1  2  3  4  5  6  7  8  9 10 11 12 13 14 15 16 17 18 19] 20\n"
     ]
    },
    {
     "data": {
      "image/png": "[encoded data removed]",
      "text/plain": [
       "<Figure size 432x288 with 1 Axes>"
      ]
     },
     "metadata": {
      "needs_background": "light"
     },
     "output_type": "display_data"
    }
   ],
   "source": [
    "import matplotlib.pyplot as plt\n",
    "\n",
    "#np.random.seed(1)\n",
    "x = np.random.randint(0, 20,1000)\n",
    "index = np.arange(20)\n",
    "\n",
    "#print(list(enumerate(x)))\n",
    "\n",
    "v,i = np.histogram(x, index)\n",
    "print(v, len(v))\n",
    "print(index, len(index))\n",
    "plt.bar(index[:-1], v)\n",
    "plt.show()"
   ]
  },
  {
   "cell_type": "code",
   "execution_count": 42,
   "id": "e01cf17a",
   "metadata": {},
   "outputs": [
    {
     "data": {
      "text/plain": [
       "array([  2.20018191,  21.46318703, -13.31320126,   6.0042747 ,\n",
       "       -17.39433927,  10.30235772,  -3.90921432,  -7.33626258,\n",
       "        -5.02891332,   3.23064404,  -4.03106088,  -8.73844609,\n",
       "         6.25226716,  -5.99270245,  13.47839136,  -5.77675575,\n",
       "        -1.64652208,  23.92083585,  -7.97924064,  -9.62670107])"
      ]
     },
     "execution_count": 42,
     "metadata": {},
     "output_type": "execute_result"
    }
   ],
   "source": [
    "a = np.random.randn(20) * 10\n",
    "a"
   ]
  },
  {
   "cell_type": "code",
   "execution_count": 44,
   "id": "d49755c8",
   "metadata": {},
   "outputs": [
    {
     "data": {
      "text/plain": [
       "array([-17.39433927, -13.31320126,  -9.62670107,  -8.73844609,\n",
       "        -7.97924064,  -7.33626258,  -5.99270245,  -5.77675575,\n",
       "        -5.02891332,  -4.03106088])"
      ]
     },
     "execution_count": 44,
     "metadata": {},
     "output_type": "execute_result"
    }
   ],
   "source": [
    "b = np.sort(a)\n",
    "b[:10]"
   ]
  },
  {
   "cell_type": "code",
   "execution_count": 45,
   "id": "4921aab7",
   "metadata": {},
   "outputs": [
    {
     "data": {
      "text/plain": [
       "array([  2.20018191,  21.46318703, -13.31320126,   6.0042747 ,\n",
       "       -17.39433927,  10.30235772,  -3.90921432,  -7.33626258,\n",
       "        -5.02891332,   3.23064404])"
      ]
     },
     "execution_count": 45,
     "metadata": {},
     "output_type": "execute_result"
    }
   ],
   "source": [
    "a[:-10]"
   ]
  },
  {
   "cell_type": "code",
   "execution_count": null,
   "id": "1f9f0bd8",
   "metadata": {},
   "outputs": [],
   "source": []
  }
 ],
 "metadata": {
  "kernelspec": {
   "display_name": "Python 3 (ipykernel)",
   "language": "python",
   "name": "python3"
  },
  "language_info": {
   "codemirror_mode": {
    "name": "ipython",
    "version": 3
   },
   "file_extension": ".py",
   "mimetype": "text/x-python",
   "name": "python",
   "nbconvert_exporter": "python",
   "pygments_lexer": "ipython3",
   "version": "3.8.5"
  }
 },
 "nbformat": 4,
 "nbformat_minor": 5
}
